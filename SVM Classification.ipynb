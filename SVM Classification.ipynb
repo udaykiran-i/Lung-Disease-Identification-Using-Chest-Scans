{
 "cells": [
  {
   "cell_type": "code",
   "execution_count": 1,
   "id": "86db8e66",
   "metadata": {},
   "outputs": [],
   "source": [
    "import numpy as np\n",
    "import matplotlib.pyplot as plt\n",
    "from sklearn.model_selection import train_test_split\n",
    "from sklearn import svm\n",
    "from sklearn.metrics import accuracy_score\n",
    "from sklearn.metrics import confusion_matrix\n",
    "from sklearn.metrics import classification_report\n",
    "import cv2\n",
    "import os"
   ]
  },
  {
   "cell_type": "code",
   "execution_count": 2,
   "id": "714b1aee",
   "metadata": {},
   "outputs": [],
   "source": [
    "# Set the path to the image folders\n",
    "train_folder = 'C:/Users/Uday/Desktop/python/Major/New-Data/train'\n",
    "test_folder = 'C:/Users/Uday/Desktop/python/Major/New-Data/test'\n",
    "val_folder = 'C:/Users/Uday/Desktop/python/Major/New-Data/valid'"
   ]
  },
  {
   "cell_type": "code",
   "execution_count": 3,
   "id": "5fc52709",
   "metadata": {},
   "outputs": [],
   "source": [
    "# Load the training dataset\n",
    "train_data = []\n",
    "train_labels = []\n",
    "folders = ['NORMAL', 'COVID19', 'PNEUMONIA','TUBERCULOSIS', 'LUNG CANCER']\n",
    "for folder in folders:\n",
    "    path = os.path.join(train_folder, folder)\n",
    "    for img in os.listdir(path):\n",
    "        img_path = os.path.join(path, img)\n",
    "        image = cv2.imread(img_path)\n",
    "        image = cv2.cvtColor(image, cv2.COLOR_BGR2GRAY)\n",
    "        image = cv2.resize(image, (224, 224))\n",
    "        train_data.append(image)\n",
    "        train_labels.append(folder)\n",
    "        \n",
    "train_data = np.array(train_data)\n",
    "train_labels = np.array(train_labels)"
   ]
  },
  {
   "cell_type": "code",
   "execution_count": 4,
   "id": "8db70215",
   "metadata": {},
   "outputs": [],
   "source": [
    "# Load the testing dataset\n",
    "test_data = []\n",
    "test_labels = []\n",
    "for folder in folders:\n",
    "    path = os.path.join(test_folder, folder)\n",
    "    for img in os.listdir(path):\n",
    "        img_path = os.path.join(path, img)\n",
    "        image = cv2.imread(img_path)\n",
    "        image = cv2.cvtColor(image, cv2.COLOR_BGR2GRAY)\n",
    "        image = cv2.resize(image, (224, 224))\n",
    "        test_data.append(image)\n",
    "        test_labels.append(folder)\n",
    "        \n",
    "test_data = np.array(test_data)\n",
    "test_labels = np.array(test_labels)"
   ]
  },
  {
   "cell_type": "code",
   "execution_count": 5,
   "id": "941e3a00",
   "metadata": {},
   "outputs": [],
   "source": [
    "\n",
    "# Load the validation dataset\n",
    "val_data = []\n",
    "val_labels = []\n",
    "for folder in folders:\n",
    "    path = os.path.join(val_folder, folder)\n",
    "    for img in os.listdir(path):\n",
    "        img_path = os.path.join(path, img)\n",
    "        image = cv2.imread(img_path)\n",
    "        image = cv2.cvtColor(image, cv2.COLOR_BGR2GRAY)\n",
    "        image = cv2.resize(image, (224, 224))\n",
    "        val_data.append(image)\n",
    "        val_labels.append(folder)\n",
    "        \n",
    "val_data = np.array(val_data)\n",
    "val_labels = np.array(val_labels)"
   ]
  },
  {
   "cell_type": "code",
   "execution_count": 6,
   "id": "fd2a28c7",
   "metadata": {},
   "outputs": [],
   "source": [
    "# Preprocess the images\n",
    "train_data = train_data.astype('float32') / 255\n",
    "test_data = test_data.astype('float32') / 255\n",
    "val_data = val_data.astype('float32') / 255"
   ]
  },
  {
   "cell_type": "code",
   "execution_count": 7,
   "id": "0aed4bb0",
   "metadata": {},
   "outputs": [],
   "source": [
    "# Reshape the images into vectors\n",
    "train_data = train_data.reshape(train_data.shape[0], -1)\n",
    "test_data = test_data.reshape(test_data.shape[0], -1)\n",
    "val_data = val_data.reshape(val_data.shape[0], -1)"
   ]
  },
  {
   "cell_type": "code",
   "execution_count": 8,
   "id": "bb04af9b",
   "metadata": {},
   "outputs": [
    {
     "data": {
      "text/html": [
       "<style>#sk-container-id-1 {color: black;background-color: white;}#sk-container-id-1 pre{padding: 0;}#sk-container-id-1 div.sk-toggleable {background-color: white;}#sk-container-id-1 label.sk-toggleable__label {cursor: pointer;display: block;width: 100%;margin-bottom: 0;padding: 0.3em;box-sizing: border-box;text-align: center;}#sk-container-id-1 label.sk-toggleable__label-arrow:before {content: \"▸\";float: left;margin-right: 0.25em;color: #696969;}#sk-container-id-1 label.sk-toggleable__label-arrow:hover:before {color: black;}#sk-container-id-1 div.sk-estimator:hover label.sk-toggleable__label-arrow:before {color: black;}#sk-container-id-1 div.sk-toggleable__content {max-height: 0;max-width: 0;overflow: hidden;text-align: left;background-color: #f0f8ff;}#sk-container-id-1 div.sk-toggleable__content pre {margin: 0.2em;color: black;border-radius: 0.25em;background-color: #f0f8ff;}#sk-container-id-1 input.sk-toggleable__control:checked~div.sk-toggleable__content {max-height: 200px;max-width: 100%;overflow: auto;}#sk-container-id-1 input.sk-toggleable__control:checked~label.sk-toggleable__label-arrow:before {content: \"▾\";}#sk-container-id-1 div.sk-estimator input.sk-toggleable__control:checked~label.sk-toggleable__label {background-color: #d4ebff;}#sk-container-id-1 div.sk-label input.sk-toggleable__control:checked~label.sk-toggleable__label {background-color: #d4ebff;}#sk-container-id-1 input.sk-hidden--visually {border: 0;clip: rect(1px 1px 1px 1px);clip: rect(1px, 1px, 1px, 1px);height: 1px;margin: -1px;overflow: hidden;padding: 0;position: absolute;width: 1px;}#sk-container-id-1 div.sk-estimator {font-family: monospace;background-color: #f0f8ff;border: 1px dotted black;border-radius: 0.25em;box-sizing: border-box;margin-bottom: 0.5em;}#sk-container-id-1 div.sk-estimator:hover {background-color: #d4ebff;}#sk-container-id-1 div.sk-parallel-item::after {content: \"\";width: 100%;border-bottom: 1px solid gray;flex-grow: 1;}#sk-container-id-1 div.sk-label:hover label.sk-toggleable__label {background-color: #d4ebff;}#sk-container-id-1 div.sk-serial::before {content: \"\";position: absolute;border-left: 1px solid gray;box-sizing: border-box;top: 0;bottom: 0;left: 50%;z-index: 0;}#sk-container-id-1 div.sk-serial {display: flex;flex-direction: column;align-items: center;background-color: white;padding-right: 0.2em;padding-left: 0.2em;position: relative;}#sk-container-id-1 div.sk-item {position: relative;z-index: 1;}#sk-container-id-1 div.sk-parallel {display: flex;align-items: stretch;justify-content: center;background-color: white;position: relative;}#sk-container-id-1 div.sk-item::before, #sk-container-id-1 div.sk-parallel-item::before {content: \"\";position: absolute;border-left: 1px solid gray;box-sizing: border-box;top: 0;bottom: 0;left: 50%;z-index: -1;}#sk-container-id-1 div.sk-parallel-item {display: flex;flex-direction: column;z-index: 1;position: relative;background-color: white;}#sk-container-id-1 div.sk-parallel-item:first-child::after {align-self: flex-end;width: 50%;}#sk-container-id-1 div.sk-parallel-item:last-child::after {align-self: flex-start;width: 50%;}#sk-container-id-1 div.sk-parallel-item:only-child::after {width: 0;}#sk-container-id-1 div.sk-dashed-wrapped {border: 1px dashed gray;margin: 0 0.4em 0.5em 0.4em;box-sizing: border-box;padding-bottom: 0.4em;background-color: white;}#sk-container-id-1 div.sk-label label {font-family: monospace;font-weight: bold;display: inline-block;line-height: 1.2em;}#sk-container-id-1 div.sk-label-container {text-align: center;}#sk-container-id-1 div.sk-container {/* jupyter's `normalize.less` sets `[hidden] { display: none; }` but bootstrap.min.css set `[hidden] { display: none !important; }` so we also need the `!important` here to be able to override the default hidden behavior on the sphinx rendered scikit-learn.org. See: https://github.com/scikit-learn/scikit-learn/issues/21755 */display: inline-block !important;position: relative;}#sk-container-id-1 div.sk-text-repr-fallback {display: none;}</style><div id=\"sk-container-id-1\" class=\"sk-top-container\"><div class=\"sk-text-repr-fallback\"><pre>SVC(kernel=&#x27;linear&#x27;)</pre><b>In a Jupyter environment, please rerun this cell to show the HTML representation or trust the notebook. <br />On GitHub, the HTML representation is unable to render, please try loading this page with nbviewer.org.</b></div><div class=\"sk-container\" hidden><div class=\"sk-item\"><div class=\"sk-estimator sk-toggleable\"><input class=\"sk-toggleable__control sk-hidden--visually\" id=\"sk-estimator-id-1\" type=\"checkbox\" checked><label for=\"sk-estimator-id-1\" class=\"sk-toggleable__label sk-toggleable__label-arrow\">SVC</label><div class=\"sk-toggleable__content\"><pre>SVC(kernel=&#x27;linear&#x27;)</pre></div></div></div></div></div>"
      ],
      "text/plain": [
       "SVC(kernel='linear')"
      ]
     },
     "execution_count": 8,
     "metadata": {},
     "output_type": "execute_result"
    }
   ],
   "source": [
    "# Train the SVM model\n",
    "clf = svm.SVC(kernel='linear')\n",
    "clf.fit(train_data, train_labels)"
   ]
  },
  {
   "cell_type": "code",
   "execution_count": 9,
   "id": "7f913be0",
   "metadata": {},
   "outputs": [],
   "source": [
    "\n",
    "# Predict the labels of the validation set\n",
    "val_pred = clf.predict(val_data)"
   ]
  },
  {
   "cell_type": "code",
   "execution_count": 10,
   "id": "ed3b1b69",
   "metadata": {},
   "outputs": [
    {
     "name": "stdout",
     "output_type": "stream",
     "text": [
      "Validation accuracy: 0.9509803921568627\n"
     ]
    }
   ],
   "source": [
    "# Evaluate the accuracy of the model\n",
    "val_accuracy = accuracy_score(val_labels, val_pred)\n",
    "print('Validation accuracy:', val_accuracy)"
   ]
  },
  {
   "cell_type": "code",
   "execution_count": 11,
   "id": "867428e7",
   "metadata": {},
   "outputs": [],
   "source": [
    "\n",
    "# Predict the labels of the test set\n",
    "test_pred = clf.predict(test_data)"
   ]
  },
  {
   "cell_type": "code",
   "execution_count": 12,
   "id": "efcab029",
   "metadata": {},
   "outputs": [
    {
     "name": "stdout",
     "output_type": "stream",
     "text": [
      "Test accuracy: 0.9099225897255454\n"
     ]
    }
   ],
   "source": [
    "\n",
    "# Evaluate the performance of the model using metrics\n",
    "test_accuracy = accuracy_score(test_labels, test_pred)\n",
    "print('Test accuracy:', test_accuracy)"
   ]
  },
  {
   "cell_type": "code",
   "execution_count": 13,
   "id": "82f3297e",
   "metadata": {},
   "outputs": [
    {
     "name": "stdout",
     "output_type": "stream",
     "text": [
      "Confusion matrix:\n",
      " [[120   0   0   1   0]\n",
      " [ 30 184   1   3   6]\n",
      " [  0   4 313   2   1]\n",
      " [  5   0  27 670   2]\n",
      " [ 39   0   5   2   6]]\n"
     ]
    }
   ],
   "source": [
    "\n",
    "cm = confusion_matrix(test_labels, test_pred)\n",
    "print('Confusion matrix:\\n', cm)"
   ]
  },
  {
   "cell_type": "code",
   "execution_count": 16,
   "id": "ce99e224",
   "metadata": {},
   "outputs": [],
   "source": [
    "# import seaborn as sns\n",
    "# import pandas as pd\n",
    "\n",
    "# classes = ['COVID19', 'LUNG CANCER', 'NORMAL', 'PNEUMONIA', 'TUBERCULOSIS']\n",
    "# df_cm=pd.DataFrame(confusion_matrix, columns=classes, index=classes)\n",
    "# df_cm.index.name='Actual'\n",
    "# df_cm.columns.name='Predicted'\n",
    "# plt.figure(figsize=(8,5))\n",
    "# sns.heatmap(df_cm/np.sum(df_cm), fmt='.2%', annot=True, annot_kws={'size':16})\n",
    "# plt.show()"
   ]
  },
  {
   "cell_type": "code",
   "execution_count": 17,
   "id": "5a9d25e5",
   "metadata": {},
   "outputs": [
    {
     "name": "stdout",
     "output_type": "stream",
     "text": [
      "Classification report:\n",
      "               precision    recall  f1-score   support\n",
      "\n",
      "     COVID19       0.62      0.99      0.76       121\n",
      " LUNG CANCER       0.98      0.82      0.89       224\n",
      "      NORMAL       0.90      0.98      0.94       320\n",
      "   PNEUMONIA       0.99      0.95      0.97       704\n",
      "TUBERCULOSIS       0.40      0.12      0.18        52\n",
      "\n",
      "    accuracy                           0.91      1421\n",
      "   macro avg       0.78      0.77      0.75      1421\n",
      "weighted avg       0.91      0.91      0.90      1421\n",
      "\n"
     ]
    }
   ],
   "source": [
    "cr = classification_report(test_labels, test_pred)\n",
    "print('Classification report:\\n', cr)"
   ]
  },
  {
   "cell_type": "code",
   "execution_count": null,
   "id": "626f1b6a",
   "metadata": {},
   "outputs": [],
   "source": []
  }
 ],
 "metadata": {
  "kernelspec": {
   "display_name": "Python 3 (ipykernel)",
   "language": "python",
   "name": "python3"
  },
  "language_info": {
   "codemirror_mode": {
    "name": "ipython",
    "version": 3
   },
   "file_extension": ".py",
   "mimetype": "text/x-python",
   "name": "python",
   "nbconvert_exporter": "python",
   "pygments_lexer": "ipython3",
   "version": "3.10.7"
  }
 },
 "nbformat": 4,
 "nbformat_minor": 5
}
